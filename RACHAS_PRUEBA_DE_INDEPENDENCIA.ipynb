{
  "nbformat": 4,
  "nbformat_minor": 0,
  "metadata": {
    "colab": {
      "provenance": []
    },
    "kernelspec": {
      "name": "python3",
      "display_name": "Python 3"
    },
    "language_info": {
      "name": "python"
    }
  },
  "cells": [
    {
      "cell_type": "markdown",
      "source": [
        "Elaboró: MARTINEZ PEREA EMILLI ASHLEY\n",
        "\n",
        "Código que realiza la **Prueba de Rachas** para números aleatorios.El código va enfocado a realizar el calculo de pruebas manualmente.En la función primero realizamos el proceso para generar la secuencia S de \"0\" y \"1\" con un ciclo for iteramos a través de la lista de datos,y dentro de este ciclo se encunetra el condicional que evalua si el valor $x_i$ es menor o no al valor $x_i+1$, en caso que se cumpla la condicón agrega un 0 a la lista, sino un 1. Para el conteo de rachas se realizo algo analogo, esta vez recorremos los datos de la secuencia S, y aplicamos el condicional para que solo cuente las rachas de \"10\", cuando se cumpla la condición aumentará esos digítos al contador \"c0\".\n",
        "Calculados esos valores, aplicamos las formulas ya dadas en el método.\n",
        "El valor critico de z lo calculamos directamente con las funciones estadisticas de Python. Aplicamos el condicional para evaluar si la hipotesis es rechazada o no y mostramos resultados. Cada parte importante del código se encuentra comentada en su respectiva linea."
      ],
      "metadata": {
        "id": "J0WqRB5gr9Qs"
      }
    },
    {
      "cell_type": "code",
      "source": [
        "def secuencias(lista):\n",
        "  secuencia=[]\n",
        "  c0=0\n",
        "  #Ciclo generador de secuencia S\n",
        "  for i in range (1,len(lista)):\n",
        "    if lista[i]<lista[i-1]:\n",
        "      secuencia.append(0)\n",
        "    else:\n",
        "      secuencia.append(1)\n",
        "  print(secuencia)\n",
        "  n=len(secuencia) +1\n",
        "  print(\"número de datos=\", n)\n",
        "\n",
        "#Ciclo contador de rachas C0\n",
        "  for i in range (len(secuencia)-1): #se coloca el -1 para que el segundo condicional no pase del numero de datos\n",
        "    if secuencia[i]==1:\n",
        "      if secuencia [i+1]==0:\n",
        "        c0=c0+2\n",
        "      else:\n",
        "        c0=c0+0\n",
        "  print(\"c0=\", c0)\n",
        "\n",
        "#Calculos del método (media,varianza,z0)\n",
        "  μco= ((2*n)-1)/ 3\n",
        "  print(\"μco=\", μco)\n",
        "\n",
        "  σ2co= ((16*n)-29)/90\n",
        "  print(\"σco=\", σ2co)\n",
        "\n",
        "  z0= (c0-μco)/(σ2co**0.5)\n",
        "  print(\"z0=\", z0)\n",
        "\n",
        "#Calculo del valor critico de z\n",
        "  from scipy.stats import norm\n",
        "  alpha = 0.05  # Example alpha level\n",
        "  aceptacion= (1 - alpha)*100\n",
        "  z_critical = norm.ppf(1 - alpha / 2)  # Get the Z-value for the upper tail\n",
        "  print(\"z_critical=\", z_critical)\n",
        "\n",
        "#Condicional final para rechazar o no la hipotesis segun lo ya calculado\n",
        "  if abs(z0) > abs(z_critical):\n",
        "    print(\"Rechazar H0\")\n",
        "  else:\n",
        "    print(\"No rechazar H0, un para nivel de confianza del\", aceptacion, \"%\")\n",
        "\n",
        "#"
      ],
      "metadata": {
        "id": "cn4FdIwJq7Ev"
      },
      "execution_count": 13,
      "outputs": []
    },
    {
      "cell_type": "code",
      "source": [
        "#Ingresamos los datos y llamamos a la función\n",
        "numeros = [0.048, 0.926, 0.368, 0.787, 0.298, 0.591, 0.007, 0.437, 0.594, 0.199, 0.478, 0.551,0.178, 0.086, 0.157, 0.166, 0.362, 0.411, 0.951, 0.401, 0.932, 0.533, 0.545, 0.772, 0.631]\n",
        "secuencias(numeros)"
      ],
      "metadata": {
        "id": "k8izG5PDy5sG",
        "colab": {
          "base_uri": "https://localhost:8080/"
        },
        "outputId": "70096c3a-cb0a-471f-bc44-8198cf368a71"
      },
      "execution_count": 16,
      "outputs": [
        {
          "output_type": "stream",
          "name": "stdout",
          "text": [
            "[1, 0, 1, 0, 1, 0, 1, 1, 0, 1, 1, 0, 0, 1, 1, 1, 1, 1, 0, 1, 0, 1, 1, 0]\n",
            "n= 25\n",
            "c0= 16\n",
            "μco= 16.333333333333332\n",
            "σco= 4.122222222222222\n",
            "z0= -0.16417727582577904\n",
            "z_critical= 1.959963984540054\n",
            "No rechazar H0, para nivel de confianza del 95.0 %\n"
          ]
        }
      ]
    }
  ]
}