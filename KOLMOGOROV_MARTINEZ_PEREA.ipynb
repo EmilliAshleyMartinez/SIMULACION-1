{
  "nbformat": 4,
  "nbformat_minor": 0,
  "metadata": {
    "colab": {
      "provenance": [],
      "toc_visible": true
    },
    "kernelspec": {
      "name": "python3",
      "display_name": "Python 3"
    },
    "language_info": {
      "name": "python"
    }
  },
  "cells": [
    {
      "cell_type": "markdown",
      "source": [
        "Elaboró: MARTINEZ PEREA EMILLI ASHLEY\n",
        "\n",
        "Código que realiza la Prueba K-S para datos aleatorios.El código va enfocado a realizar el calculo de pruebas manualmente: primero se ordenan los números de menor a mayor (en este caso introduje los datos ya ordenados pero en el código psolicita realizarlo de igual manera), para calcular los valores D+, D- y D necsitamos antes alamacenar los xi y obtener su promedio, obtenidos esos valores podemos aplicar directamente las formulas para calcular los D.El valor critico lo calculamos directamente con las funciones estadisticas de Python. Aplicamos el condicional para evaluar si la hipotesis es rechazada o no y mostramos resultados. Cada parte importante del código se encuentra comentada en su respectiva linea."
      ],
      "metadata": {
        "id": "LzhTP2eAGWfj"
      }
    },
    {
      "cell_type": "code",
      "execution_count": 6,
      "metadata": {
        "colab": {
          "base_uri": "https://localhost:8080/"
        },
        "id": "TMWL8h44tLDw",
        "outputId": "5e871fd7-2482-4b91-eb88-805d38243f1b"
      },
      "outputs": [
        {
          "output_type": "stream",
          "name": "stdout",
          "text": [
            "Estadístico D calculado: 0.1690\n",
            "Valor crítico (α=0.05): 0.2716\n",
            "No se rechaza la hipótesis nula, la muestra sigue una distribución uniforme.\n"
          ]
        }
      ],
      "source": [
        "import numpy as np\n",
        "import scipy.stats as stats\n",
        "\n",
        "def ks(muestra, alpha=0.05):\n",
        "    # Ordenar la muestra\n",
        "    ordenada = sorted(muestra)\n",
        "    n = len(muestra)\n",
        "\n",
        "\n",
        "    prom = [(i + 1) / n for i in range(n)]\n",
        "    xi = [x for x in ordenada]\n",
        "\n",
        "    # Calculamos D\n",
        "    Dmas = max(prom[i] - xi[i] for i in range(n))\n",
        "    Dmenos = max(xi[i] - (i / n) for i in range(n))\n",
        "    D= max(Dmas, Dmenos)\n",
        "\n",
        "    # Valor crítico\n",
        "    vc = stats.kstwobign.ppf(1 - alpha) / np.sqrt(n)\n",
        "\n",
        "    # Resultados\n",
        "    print(f\"Estadístico D calculado: {D:.4f}\")\n",
        "    print(f\"Valor crítico (α={alpha}): {vc:.4f}\")\n",
        "\n",
        "    if D < vc:\n",
        "        print(\"No se rechaza la hipótesis nula, la muestra sigue una distribución uniforme.\")\n",
        "    else:\n",
        "        print(\"Se rechaza la hipótesis nula, la muestra no sigue una distribución uniforme.\")\n",
        "\n",
        "# Datos\n",
        "datos=[0.007, 0.048, 0.086, 0.157, 0.166, 0.178, 0.199, 0.298, 0.362, 0.368, 0.401, 0.411,0.437, 0.478, 0.533, 0.545, 0.551, 0.591, 0.594, 0.631,0.772, 0.787, 0.926, 0.932, 0.951]\n",
        "\n",
        "# Llamado a la función coon los datos ya ingresados\n",
        "ks(datos, alpha=0.05)"
      ]
    }
  ]
}