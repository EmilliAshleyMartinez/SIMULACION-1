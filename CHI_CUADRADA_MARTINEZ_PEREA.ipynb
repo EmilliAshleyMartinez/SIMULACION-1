{
  "nbformat": 4,
  "nbformat_minor": 0,
  "metadata": {
    "colab": {
      "provenance": []
    },
    "kernelspec": {
      "name": "python3",
      "display_name": "Python 3"
    },
    "language_info": {
      "name": "python"
    }
  },
  "cells": [
    {
      "cell_type": "markdown",
      "source": [
        "Elaboró: MARTINEZ PEREA EMILLI ASHLEY\n",
        "\n",
        "Código que realiza la Prueba Chi cuadrada para datos aleatorios.Cada parte importante del código se encuentra comentada en su respectiva linea."
      ],
      "metadata": {
        "id": "pYcdOox_M7nR"
      }
    },
    {
      "source": [
        "import numpy as np\n",
        "import scipy.stats as stats\n",
        "\n",
        "def chicuadrada(muestra, bins=5, alpha=0.05):\n",
        "    # Definir los intervalos para la prueba\n",
        "    min_val=0\n",
        "    anchointervalo = 0.1999\n",
        "    intervalo = [min_val + (i * anchointervalo) for i in range(bins + 1)]\n",
        "\n",
        "    # Contar las frecuencias observadas\n",
        "    fo = [0] * bins\n",
        "    for value in muestra:\n",
        "        for i in range(bins):\n",
        "            if intervalo[i] <= value < intervalo[i + 1]:\n",
        "                fo[i] += 1\n",
        "                break\n",
        "\n",
        "\n",
        "    fo[-1] += (np.array(muestra) >= intervalo[-2]).sum()\n",
        "\n",
        "    # Calcular frecuencias esperadas\n",
        "    expected_freq = [len(muestra) / bins] * bins\n",
        "\n",
        "    # Calcular chi-cuadrado\n",
        "    chicuadradai = sum((fo[i] - expected_freq[i]) ** 2 / expected_freq[i] for i in range(bins))\n",
        "\n",
        "    # Grado de libertad\n",
        "    dof = bins - 1\n",
        "\n",
        "    # Valor crítico de chi-cuadrado\n",
        "    vc= stats.chi2.ppf(1 - alpha, dof)\n",
        "\n",
        "    # p-valor\n",
        "    p_value = 1- stats.chi2.cdf(chicuadradai, dof)\n",
        "\n",
        "   # Resultados\n",
        "    print(f\"Chi-Cuadrado calculado manualmente: {chicuadradai:.4f}\")\n",
        "    print(f\"Valor crítico (α={alpha}): {vc:.4f}\")\n",
        "    print(f\"p-valor: {p_value:.4f}\")\n",
        "\n",
        "    if chicuadradai < vc:\n",
        "        print(\"No se rechaza la hipótesis nula: La muestra sigue una distribución uniforme.\")\n",
        "    else:\n",
        "        print(\"Se rechaza la hipótesis nula: La muestra no sigue una distribución uniforme.\")\n",
        "\n",
        "    # Imprimir la tabla de frecuencias\n",
        "    print(\"\\nTabla de Frecuencias:\")\n",
        "    print(\"Intervalo\\tFrecuencia Observada\")\n",
        "    for i in range(bins):\n",
        "        print(f\"[{intervalo[i]:.2f}, {intervalo[i+1]:.2f})\\t{fo[i]}\")\n",
        "\n",
        "\n",
        "datos=[0.78961, 0.05230, 0.10699, 0.55877, 0.14151, 0.76086,  0.12079, 0.27738 ,0.65726, 0.79269, 0.80548, 0.82654 ,0.29453 ,0.20852, 0.42989 ,0.58518, 0.98611 ,0.34488 ,0.34358 ,0.11537 ,0.89898 ,0.57880 ,0.67621, 0.05010, 0.00121 ,0.28269, 0.73059 ,0.70119, 0.18284 ,0.49962 ,0.38618 ,0.76910, 0.68334, 0.55170 ,0.10850 ,0.79982 ,0.45679 ,0.21631 ,0.87616 ,0.55743 ,0.58962, 0.93216 ,0.03185, 0.61168 ,0.09264, 0.69623 ,0.17028, 0.05475, 0.91512 ,0.76262 ,0.29931, 0.30861 ,0.83358 ,0.51781 ,0.03272, 0.57410 ,0.26593 ,0.85903 ,0.43308 ,0.35286 ,0.24000 ,0.65559 ,0.38507 ,0.90829 ,0.94187, 0.93655 ,0.88809, 0.81772, 0.36982 ,0.19904 ,0.54325 ,0.62400, 0.09133, 0.41678 ,0.83954, 0.58244 ,0.85853 ,0.88752, 0.83729 ,0.15506 ,0.23949 ,0.53559 ,0.33381 ,0.49383 ,0.75103, 0.19962 ,0.65002, 0.74579 ,0.79113, 0.63453 ,0.19147, 0.40644, 0.08128, 0.73435 ,0.22724 ,0.22287 ,0.07281, 0.64183, 0.44267 ,0.72102]\n",
        "\n",
        "chicuadrada(datos, bins=5, alpha=0.05)"
      ],
      "cell_type": "code",
      "metadata": {
        "colab": {
          "base_uri": "https://localhost:8080/"
        },
        "id": "zHevWq_4_0Jv",
        "outputId": "d70db239-4649-4668-f6e4-f8738625ae0e"
      },
      "execution_count": 11,
      "outputs": [
        {
          "output_type": "stream",
          "name": "stdout",
          "text": [
            "Chi-Cuadrado calculado manualmente: 16.5500\n",
            "Valor crítico (α=0.05): 9.4877\n",
            "p-valor: 0.0024\n",
            "Se rechaza la hipótesis nula: La muestra no sigue una distribución uniforme.\n",
            "\n",
            "Tabla de Frecuencias:\n",
            "Intervalo\tFrecuencia Observada\n",
            "[0.00, 0.20)\t21\n",
            "[0.20, 0.40)\t19\n",
            "[0.40, 0.60)\t19\n",
            "[0.60, 0.80)\t22\n",
            "[0.80, 1.00)\t38\n"
          ]
        }
      ]
    }
  ]
}