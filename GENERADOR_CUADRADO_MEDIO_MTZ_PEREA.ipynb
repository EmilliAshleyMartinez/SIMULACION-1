{
  "nbformat": 4,
  "nbformat_minor": 0,
  "metadata": {
    "colab": {
      "provenance": []
    },
    "kernelspec": {
      "name": "python3",
      "display_name": "Python 3"
    },
    "language_info": {
      "name": "python"
    }
  },
  "cells": [
    {
      "cell_type": "markdown",
      "source": [
        "Elaboró: MARTINEZ PEREA EMILLI ASHLEY\n",
        "\n",
        "**Generador de cuadrado medio de números aleatorios** \\\\\n",
        "Este programa representa el funcionamiento de un generador de cuadrado medio. Como elemento principal se utiliza un ciclo *for* para poder generar las iteraciones.Primero obtenemos el cuadrado de nuestra semilla, convertimos a cadena (str()) y almacenamos en 'cuadrados', con 'pc' obtenemos la posición central del número total de dígitos de nuestro 'xn'. Las variables incio y fin, indican el indice donde va a empezar y finalizar la extracción de los 4 dígitos centrales, obtenidos estos 4 dígitos los volvemos a almacenar en 'xn'. Agregamos a listas los valores que deseamos mostrar y empleamos tabulate para mostrar en la tabla.\n",
        "Cada parte importante del código se encuentra comentada en su respectiva linea."
      ],
      "metadata": {
        "id": "hFKGZWK_GHHo"
      }
    },
    {
      "cell_type": "code",
      "execution_count": 13,
      "metadata": {
        "colab": {
          "base_uri": "https://localhost:8080/"
        },
        "id": "NZWMqa6FeD0o",
        "outputId": "2ec2c85f-3062-41c7-bcc4-5bfee58227d8"
      },
      "outputs": [
        {
          "output_type": "stream",
          "name": "stdout",
          "text": [
            "+-----+------+----------+----------+\n",
            "|   n |   Xn |   Xn/10k |      X^2 |\n",
            "+=====+======+==========+==========+\n",
            "|   0 | 1234 |   1.234  |  1522756 |\n",
            "+-----+------+----------+----------+\n",
            "|   1 | 5227 |   0.5227 | 27321529 |\n",
            "+-----+------+----------+----------+\n",
            "|   2 | 3215 |   0.3215 | 10336225 |\n",
            "+-----+------+----------+----------+\n",
            "|   3 | 3362 |   0.3362 | 11303044 |\n",
            "+-----+------+----------+----------+\n",
            "|   4 | 3030 |   0.303  |  9180900 |\n",
            "+-----+------+----------+----------+\n",
            "|   5 | 1809 |   0.1809 |  3272481 |\n",
            "+-----+------+----------+----------+\n",
            "|   6 | 2724 |   0.2724 |  7420176 |\n",
            "+-----+------+----------+----------+\n",
            "|   7 | 4201 |   0.4201 | 17648401 |\n",
            "+-----+------+----------+----------+\n",
            "|   8 | 6484 |   0.6484 | 42042256 |\n",
            "+-----+------+----------+----------+\n",
            "|   9 |  422 |   0.0422 |   178084 |\n",
            "+-----+------+----------+----------+\n",
            "|  10 | 7808 |   0.7808 | 60964864 |\n",
            "+-----+------+----------+----------+\n"
          ]
        }
      ],
      "source": [
        "#GENERADOR DE CUADRADO MEDIO\n",
        "from tabulate import tabulate\n",
        "\n",
        "def cuadrados_medios(semilla, iteraciones):\n",
        "  #Inicializacion de listas y variables\n",
        "  valores = []\n",
        "  tabla = [[0,semilla,semilla/1000,semilla**2]]\n",
        "  x2=[]\n",
        "  xn = semilla\n",
        "\n",
        "  #Comienzo de iteraciones\n",
        "  for i in range(1,iteraciones +1 ):\n",
        "    cuadrados = str(xn**2)\n",
        "    pc= len(cuadrados) // 2  #Encuentra el indice central\n",
        "    inicio = pc -2\n",
        "    fin= inicio + 4\n",
        "    xn = int(cuadrados[inicio:fin]) #Guarda los 4 digitos centrales\n",
        "\n",
        "    valores.append(xn) #lista valores agrega cada xn generado\n",
        "    tabla.append([i, xn, xn/10000,(xn**2)])\n",
        "\n",
        "  print(tabulate(tabla, headers=[\"n\", \"Xn\", \"Xn/10k\",\"X^2\"], tablefmt=\"grid\"))\n",
        "\n",
        "\n",
        "\n",
        "\n",
        "# Ejemplo:\n",
        "semilla = 1234\n",
        "numero_iteraciones = 10\n",
        "cuadrados_medios(semilla, numero_iteraciones )\n"
      ]
    }
  ]
}