{
  "nbformat": 4,
  "nbformat_minor": 0,
  "metadata": {
    "colab": {
      "provenance": []
    },
    "kernelspec": {
      "name": "python3",
      "display_name": "Python 3"
    },
    "language_info": {
      "name": "python"
    }
  },
  "cells": [
    {
      "cell_type": "markdown",
      "source": [
        "# Método de la transformada inversa para generar la distribución triangular"
      ],
      "metadata": {
        "id": "GgDL3mqXhEOi"
      }
    },
    {
      "cell_type": "markdown",
      "source": [
        "Elaboró: **MARTINEZ PEREA EMILLI ASHLEY**\n",
        "\n",
        "Código que genera una distribución triangular a partir del método de la transformada inversa. Los datos de la distrbucion son datos aleatorios generados por el mismo código. Al final graficamos en un histograma los datos simulados, con la media y desviacion estandar respecto a esos datos.\n",
        "\n"
      ],
      "metadata": {
        "id": "NaAWw-Kng-DZ"
      }
    },
    {
      "cell_type": "code",
      "source": [
        "from random import random\n",
        "from math import sqrt\n",
        "import matplotlib.pyplot as plt\n",
        "from statistics import mean, stdev\n",
        "import matplotlib.pyplot as plt"
      ],
      "metadata": {
        "id": "JsWuXMfSxlpb"
      },
      "execution_count": 2,
      "outputs": []
    },
    {
      "cell_type": "markdown",
      "source": [
        "La teoría empleada para este método es la siguiente: \\\\\n",
        "**Distribución Triangular** \\\\\n",
        "Sea una variable aleatoria X con distribución triangular definida por tres parámetros: \\\\\n",
        "a: límite inferior \\\\\n",
        "b: moda \\\\\n",
        "c: límite superior \\\\\n",
        "\n",
        "\n",
        "La función de distribución acumulada de la distribución triangular es:\n",
        "\n",
        "$$\n",
        "F(x) =\n",
        "\\begin{cases}\n",
        "0 & \\text{si } x < a \\\\\n",
        "\\frac{(x - a)^2}{(b - a)(c - a)} & \\text{si } a \\le x < b \\\\\n",
        "1 - \\frac{(c - x)^2}{(c - b)(c - a)} & \\text{si } b \\le x \\le c \\\\\n",
        "1 & \\text{si } x > c\n",
        "\\end{cases}\n",
        "$$\n",
        "\n",
        "**Método de la Transformada Inversa**\n",
        "\n",
        "El método consiste en generar una variable aleatoria $ U \\sim \\mathcal{U}(0,1) $ y aplicar la inversa de la función de distribución acumulada para obtener una muestra X de la distribución deseada.\n",
        "\n",
        "Para la distribución triangular, la inversa de la función de distribución acumulada es:\n",
        "\n",
        "$$\n",
        "X =\n",
        "\\begin{cases}\n",
        "a + \\sqrt{U (b - a)(c - a)} & \\text{si } U < \\frac{b - a}{c - a} \\\\\n",
        "c - \\sqrt{(1 - U)(c - b)(c - a)} & \\text{si } U \\ge \\frac{b - a}{c - a}\n",
        "\\end{cases}\n",
        "$$\n",
        "\n",
        "Este procedimiento genera muestras con la misma distribución triangular definida por los parámetros a, b, c.\n"
      ],
      "metadata": {
        "id": "p2-xOAhdiWGw"
      }
    },
    {
      "cell_type": "markdown",
      "source": [
        "Función que genera la distribución triangular"
      ],
      "metadata": {
        "id": "2PLjuoxsh68o"
      }
    },
    {
      "cell_type": "code",
      "execution_count": 3,
      "metadata": {
        "id": "8iFXI2V9xGCs"
      },
      "outputs": [],
      "source": [
        "def funcion(a,b,c):\n",
        "  k=(b-a)/(c-a)\n",
        "  p=random()\n",
        "  if p<k:\n",
        "    x= a + sqrt(p*(b-a)*(c-a))\n",
        "  else:\n",
        "    x=c-sqrt((1-p)*(c-b)*(c-a))\n",
        "  return x"
      ]
    },
    {
      "cell_type": "markdown",
      "source": [
        "Simulación de datos sobre la función previa"
      ],
      "metadata": {
        "id": "2RDIuIMviDrJ"
      }
    },
    {
      "cell_type": "code",
      "source": [
        "x=[]\n",
        "for i in range(1,10000):\n",
        "  x.append(funcion(1,3,5))\n",
        "mean(x)"
      ],
      "metadata": {
        "colab": {
          "base_uri": "https://localhost:8080/"
        },
        "id": "6EjWWj4Lzieq",
        "outputId": "c32af077-ac82-42b6-a398-947461cc2515"
      },
      "execution_count": 10,
      "outputs": [
        {
          "output_type": "execute_result",
          "data": {
            "text/plain": [
              "3.0010057856676906"
            ]
          },
          "metadata": {},
          "execution_count": 10
        }
      ]
    },
    {
      "cell_type": "markdown",
      "source": [
        "Graficamos los datos"
      ],
      "metadata": {
        "id": "8CKO2_K7iI8D"
      }
    },
    {
      "cell_type": "code",
      "source": [
        "plt.hist(x,bins=500)#graficamos los puntos o datos del bloque anterior\n",
        "plt.xlabel('número de iteraciones')\n",
        "plt.ylabel('Valores')\n",
        "plt.title('Distribución triangular')\n",
        "plt.axvline(x=mean(x),color='r')\n",
        "plt.axvline(x=mean(x)+ stdev(x),color='r',linestyle= '--',label=f\"media={mean(x)}\") #intervalos del error calculados a desviaciones estandar de la media\n",
        "plt.axvline(x=mean(x)- stdev(x),color='r',linestyle= '--',label=f\"desviación estándar={stdev(x)}\")\n",
        "plt.legend(loc='best')\n",
        "plt.grid(True)\n",
        "plt.show()"
      ],
      "metadata": {
        "colab": {
          "base_uri": "https://localhost:8080/",
          "height": 472
        },
        "id": "Gwh5DcPq0_5i",
        "outputId": "bf4a650c-916b-48bf-c01d-df0d75281e0e"
      },
      "execution_count": 12,
      "outputs": [
        {
          "output_type": "display_data",
          "data": {
            "text/plain": [
              "<Figure size 640x480 with 1 Axes>"
            ],
            "image/png": "[encoded data removed]"
          },
          "metadata": {}
        }
      ]
    },
    {
      "cell_type": "code",
      "source": [
        "mediasimu = mean(x)\n",
        "stdevsimu = stdev(x)\n",
        "\n",
        "a, b, c = 1, 3, 5\n",
        "mediateo = (a + b + c)/3\n",
        "stdevteo = (a**2 + b**2 + c**2 - a*b - a*c - b*c)/18\n",
        "\n",
        "print(\"Media teórica:\", mediateo)\n",
        "print(\"Media simulada:\", mediasimu)\n",
        "\n",
        "print(\"\\nVarianza teórica:\", stdevteo)\n",
        "print(\"Varianza simulada:\", stdevsimu)"
      ],
      "metadata": {
        "colab": {
          "base_uri": "https://localhost:8080/"
        },
        "id": "CRVz5fuCrxpL",
        "outputId": "0ed2b727-3db7-44b4-dde1-2f34c31fda0d"
      },
      "execution_count": 13,
      "outputs": [
        {
          "output_type": "stream",
          "name": "stdout",
          "text": [
            "Media teórica: 3.0\n",
            "Media simulada: 3.0010057856676906\n",
            "\n",
            "Varianza teórica: 0.6666666666666666\n",
            "Varianza simulada: 0.814748385102999\n"
          ]
        }
      ]
    }
  ]
}